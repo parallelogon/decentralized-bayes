{
 "cells": [
  {
   "cell_type": "code",
   "execution_count": 1,
   "id": "b0b272cf",
   "metadata": {},
   "outputs": [],
   "source": [
    "from priors import *\n",
    "from container import *\n",
    "from client import *\n",
    "import torch\n",
    "import torch.nn as nn\n",
    "import torchvision\n",
    "from torch.utils.data import DataLoader\n",
    "import matplotlib.pyplot as plt\n",
    "from logreg import *"
   ]
  },
  {
   "cell_type": "markdown",
   "id": "80991bb9",
   "metadata": {},
   "source": [
    "# Loading the dataset, and initializing clients with distributed data"
   ]
  },
  {
   "cell_type": "code",
   "execution_count": 2,
   "id": "ee4449c5",
   "metadata": {},
   "outputs": [],
   "source": [
    "MNIST = torchvision.datasets.MNIST(root = \".\", \n",
    "                                   train = True,\n",
    "                                   download = True,transform=torchvision.transforms.ToTensor())\n",
    "\n",
    "output_dimension = len(MNIST.classes)\n",
    "input_dimension = len(MNIST.data[0])**2\n",
    "hidden_size = 10\n",
    "\n",
    "#good lr for log-reg\n",
    "model = nn.Linear(input_dimension, output_dimension)\n",
    "lr = 1e-5\n",
    "n_clients = 20\n",
    "\n",
    "models = init_clients(MNIST, n_clients, model, lr, prior = Gaussian(0, 0.1))"
   ]
  },
  {
   "cell_type": "markdown",
   "id": "c9417e56",
   "metadata": {},
   "source": [
    "# Defining Loss function and initializing distributed container"
   ]
  },
  {
   "cell_type": "code",
   "execution_count": 3,
   "id": "10e80fb6",
   "metadata": {},
   "outputs": [],
   "source": [
    "loss_criterion = nn.CrossEntropyLoss()\n",
    "distributed_models = Container(models, loss_criterion)"
   ]
  },
  {
   "cell_type": "markdown",
   "id": "06ed324f",
   "metadata": {},
   "source": [
    "# Test loop dataset and Definition"
   ]
  },
  {
   "cell_type": "code",
   "execution_count": 4,
   "id": "8431b030",
   "metadata": {},
   "outputs": [],
   "source": [
    "MNIST_test = torchvision.datasets.MNIST(root = \".\", \n",
    "                                   train = False,\n",
    "                                   download = True,\n",
    "                                        transform=torchvision.transforms.ToTensor())\n",
    "\n",
    "batch_size = 100\n",
    "\n",
    "test_loader = DataLoader(MNIST_test, batch_size = batch_size)"
   ]
  },
  {
   "cell_type": "code",
   "execution_count": 5,
   "id": "ebb14c70",
   "metadata": {},
   "outputs": [],
   "source": [
    "def test(distributed_models, test_loader):\n",
    "    with torch.no_grad():\n",
    "        loss = []\n",
    "        total = 0\n",
    "        correct = 0\n",
    "        for batch in test_loader:\n",
    "            total += len(batch[0])\n",
    "            y_i = distributed_models(batch[0]).softmax(dim = 1)\n",
    "            loss.append(loss_criterion(y_i, batch[1]))\n",
    "            correct += torch.eq(y_i.argmax(dim = 1), batch[1]).sum()\n",
    "\n",
    "        accuracy = correct/total\n",
    "        avg_loss = sum(loss)/len(loss)\n",
    "\n",
    "    return(accuracy, avg_loss)"
   ]
  },
  {
   "cell_type": "markdown",
   "id": "761bd7d7",
   "metadata": {},
   "source": [
    "# Training the model"
   ]
  },
  {
   "cell_type": "code",
   "execution_count": 6,
   "id": "a5c57353",
   "metadata": {},
   "outputs": [
    {
     "name": "stdout",
     "output_type": "stream",
     "text": [
      "epoch:  0  loss:  133.91152954101562\n",
      "epoch:  100  loss:  26.875274658203125\n",
      "epoch:  200  loss:  23.407094955444336\n",
      "epoch:  300  loss:  17.563440322875977\n",
      "epoch:  400  loss:  20.278776168823242\n",
      "epoch:  500  loss:  18.18461799621582\n",
      "epoch:  600  loss:  16.205764770507812\n",
      "epoch:  700  loss:  17.661991119384766\n",
      "epoch:  800  loss:  18.39556121826172\n",
      "epoch:  900  loss:  16.711610794067383\n"
     ]
    }
   ],
   "source": [
    "training_loss = []\n",
    "for i in range(1000):\n",
    "    loss = distributed_models.train(batch_size,.8)\n",
    "    training_loss.append(loss.item())\n",
    "    \n",
    "    if i % 100 == 0:\n",
    "        print('epoch: ', i, ' loss: ', loss.item())"
   ]
  },
  {
   "cell_type": "code",
   "execution_count": 7,
   "id": "83f3f547",
   "metadata": {},
   "outputs": [
    {
     "data": {
      "text/plain": [
       "[<matplotlib.lines.Line2D at 0x1fa5e71cdf0>]"
      ]
     },
     "execution_count": 7,
     "metadata": {},
     "output_type": "execute_result"
    },
    {
     "data": {
      "image/png": "[encoded data removed]",
      "text/plain": [
       "<Figure size 432x288 with 1 Axes>"
      ]
     },
     "metadata": {
      "needs_background": "light"
     },
     "output_type": "display_data"
    }
   ],
   "source": [
    "plt.plot(training_loss)"
   ]
  },
  {
   "cell_type": "code",
   "execution_count": 8,
   "id": "56852e5a",
   "metadata": {},
   "outputs": [
    {
     "name": "stdout",
     "output_type": "stream",
     "text": [
      "tensor(0.9153) tensor(2.1314)\n"
     ]
    }
   ],
   "source": [
    "acc, avg_loss = test(distributed_models, test_loader)\n",
    "print(acc, avg_loss)"
   ]
  }
 ],
 "metadata": {
  "kernelspec": {
   "display_name": "Python 3 (ipykernel)",
   "language": "python",
   "name": "python3"
  },
  "language_info": {
   "codemirror_mode": {
    "name": "ipython",
    "version": 3
   },
   "file_extension": ".py",
   "mimetype": "text/x-python",
   "name": "python",
   "nbconvert_exporter": "python",
   "pygments_lexer": "ipython3",
   "version": "3.9.7"
  }
 },
 "nbformat": 4,
 "nbformat_minor": 5
}
