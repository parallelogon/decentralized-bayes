{
 "cells": [
  {
   "cell_type": "code",
   "execution_count": 59,
   "id": "1ad3bbe5",
   "metadata": {},
   "outputs": [],
   "source": [
    "from priors import *\n",
    "from container import *\n",
    "from client import *\n",
    "import torch\n",
    "import torch.nn as nn\n",
    "from torch.utils.data import DataLoader\n",
    "import matplotlib.pyplot as plt\n",
    "from logreg import *\n",
    "from SLGD import *\n",
    "from preconditioners import *"
   ]
  },
  {
   "cell_type": "markdown",
   "id": "60f65cf3",
   "metadata": {},
   "source": [
    "# Models and dataset\n",
    "\n",
    "A logistic regression in 2d has a posterior that can be approximated using the mean and fisher information of sampled weights.  Using this, one can demonstrate visually that the decentralized and federated langevin dynamics model samples from the correct posterior."
   ]
  },
  {
   "cell_type": "code",
   "execution_count": 60,
   "id": "2e4f2c6a",
   "metadata": {},
   "outputs": [],
   "source": [
    "# 20,000 samples from a dataset built for classification, two seperate gaussians with different mean and variance\n",
    "logrdata = LogReg(20000,2,5,1)\n",
    "model = nn.Sequential(nn.Linear(2, 1), nn.Sigmoid())\n",
    "lr = 1e-3\n",
    "n_clients = 20\n",
    "batch_size = 100\n",
    "\n",
    "models = init_clients(logrdata, n_clients, model, lr)"
   ]
  },
  {
   "cell_type": "markdown",
   "id": "4ea2fb35",
   "metadata": {},
   "source": [
    "# Loss and Model Init\n",
    "\n",
    "Use the BCE Loss for a logistic regression, it takes a probability (sigmoid output) and computes the nll loss"
   ]
  },
  {
   "cell_type": "code",
   "execution_count": 61,
   "id": "6c012b06",
   "metadata": {},
   "outputs": [],
   "source": [
    "loss_criterion = nn.BCELoss()\n",
    "distributed_models = Container(models, loss_criterion)"
   ]
  },
  {
   "cell_type": "markdown",
   "id": "18ea3d5b",
   "metadata": {},
   "source": [
    "# Fisher matrix approx\n",
    "\n",
    "Approximate the fisher information using the gradient calculated with the labels.  This leads to approximately the same results AT THE MINIMA ONLY."
   ]
  },
  {
   "cell_type": "code",
   "execution_count": 62,
   "id": "f45df1db",
   "metadata": {},
   "outputs": [],
   "source": [
    "def fisher(distributed_models):\n",
    "    F = torch.zeros(2,2)\n",
    "    count = 0\n",
    "    g = 0\n",
    "    with torch.no_grad():\n",
    "        for client in distributed_models.clients:\n",
    "            for name in client.grad:#client.model.named_parameters():\n",
    "                if 'weight' in name.split('.'):\n",
    "                    # takes the aggregated gradients\n",
    "                    param = client.grad_no_noise[name]\n",
    "                    g = param.view(-1,1)\n",
    "                    F += g @ g.T\n",
    "\n",
    "        return(F/distributed_models.b)"
   ]
  },
  {
   "cell_type": "markdown",
   "id": "aaefb701",
   "metadata": {},
   "source": [
    "# Main training loop\n",
    "\n",
    "This goes on for longer than needed in order to get enough samples to compare the sampled distribution to the laplace approximated posterior."
   ]
  },
  {
   "cell_type": "code",
   "execution_count": 63,
   "id": "9ab0f737",
   "metadata": {},
   "outputs": [
    {
     "name": "stdout",
     "output_type": "stream",
     "text": [
      "epoch:  0  loss:  0.7841265201568604\n",
      "epoch:  100  loss:  0.44962549209594727\n",
      "epoch:  200  loss:  0.42524081468582153\n",
      "epoch:  300  loss:  0.4160609245300293\n",
      "epoch:  400  loss:  0.4230315089225769\n",
      "epoch:  500  loss:  0.40409356355667114\n",
      "epoch:  600  loss:  0.40695247054100037\n",
      "epoch:  700  loss:  0.4060078561306\n",
      "epoch:  800  loss:  0.39914995431900024\n",
      "epoch:  900  loss:  0.3963165879249573\n",
      "epoch:  1000  loss:  0.3942951261997223\n",
      "epoch:  1100  loss:  0.3890117108821869\n",
      "epoch:  1200  loss:  0.39233553409576416\n",
      "epoch:  1300  loss:  0.3952561914920807\n",
      "epoch:  1400  loss:  0.3923327922821045\n",
      "epoch:  1500  loss:  0.38233423233032227\n",
      "epoch:  1600  loss:  0.39294493198394775\n",
      "epoch:  1700  loss:  0.3994869589805603\n",
      "epoch:  1800  loss:  0.3867998719215393\n",
      "epoch:  1900  loss:  0.39108604192733765\n",
      "epoch:  2000  loss:  0.39587467908859253\n",
      "epoch:  2100  loss:  0.39701372385025024\n",
      "epoch:  2200  loss:  0.3961523175239563\n",
      "epoch:  2300  loss:  0.3947980999946594\n",
      "epoch:  2400  loss:  0.39507201313972473\n",
      "epoch:  2500  loss:  0.4005299508571625\n",
      "epoch:  2600  loss:  0.3970249593257904\n",
      "epoch:  2700  loss:  0.39398476481437683\n",
      "epoch:  2800  loss:  0.3912031352519989\n",
      "epoch:  2900  loss:  0.3987066149711609\n",
      "epoch:  3000  loss:  0.3975805342197418\n"
     ]
    }
   ],
   "source": [
    "training_loss = []\n",
    "F = torch.eye(2)\n",
    "N = 3001\n",
    "mu = 0.5\n",
    "\n",
    "for i in range(N):\n",
    "    loss = distributed_models.train(batch_size,.8)\n",
    "    training_loss.append(loss.item())\n",
    "    \n",
    "    if i % 100 == 0:\n",
    "        print('epoch: ', i, ' loss: ', loss.item())\n",
    "        \n",
    "    if (i >= 1000) and (i % 20 == 0):\n",
    "        distributed_models.aggregate_sample()\n",
    "        # exponential average of the fisher information\n",
    "        #F = (1-mu)*F + mu*fisher(distributed_models)\n",
    "        F = i/(i+1)*F + fisher(distributed_models)/(i+1)\n"
   ]
  },
  {
   "cell_type": "code",
   "execution_count": 64,
   "id": "32ab4567",
   "metadata": {},
   "outputs": [
    {
     "name": "stdout",
     "output_type": "stream",
     "text": [
      "tensor([[1.2134, 0.2281],\n",
      "        [0.2281, 1.1883]])\n"
     ]
    }
   ],
   "source": [
    "print(F)"
   ]
  },
  {
   "cell_type": "code",
   "execution_count": 65,
   "id": "0750b83b",
   "metadata": {},
   "outputs": [
    {
     "data": {
      "text/plain": [
       "[<matplotlib.lines.Line2D at 0x2413b294580>]"
      ]
     },
     "execution_count": 65,
     "metadata": {},
     "output_type": "execute_result"
    },
    {
     "data": {
      "image/png": "[encoded data removed]",
      "text/plain": [
       "<Figure size 432x288 with 1 Axes>"
      ]
     },
     "metadata": {
      "needs_background": "light"
     },
     "output_type": "display_data"
    }
   ],
   "source": [
    "plt.plot(training_loss)"
   ]
  },
  {
   "cell_type": "code",
   "execution_count": 66,
   "id": "327dcb1e",
   "metadata": {},
   "outputs": [
    {
     "name": "stdout",
     "output_type": "stream",
     "text": [
      "tensor(0.9942) tensor(0.3980, grad_fn=<DivBackward0>)\n"
     ]
    }
   ],
   "source": [
    "logrdata_test = LogReg(20000,2,5,1)\n",
    "batch_size = 100\n",
    "test_loader = DataLoader(logrdata_test, batch_size = batch_size)\n",
    "\n",
    "def test_logistic(distributed_models, test_loader, fisher_est = False):\n",
    "    if not fisher_est:\n",
    "        with torch.no_grad():\n",
    "            loss = []\n",
    "            total = 0\n",
    "            correct = 0\n",
    "            for batch in test_loader:\n",
    "                total += len(batch[0])\n",
    "                y_i = distributed_models(batch[0])\n",
    "                loss.append(loss_criterion(y_i, batch[1]))\n",
    "\n",
    "                y_i = 1.0*(y_i >= 0.5)\n",
    "                correct += torch.eq(y_i, batch[1]).sum()\n",
    "\n",
    "            accuracy = correct / total\n",
    "            avg_loss = sum(loss) / len(loss)\n",
    "\n",
    "        return(accuracy, avg_loss)\n",
    "\n",
    "    else:\n",
    "        loss = []\n",
    "        total = 0\n",
    "        correct = 0\n",
    "        distributed_models\n",
    "        F = torch.eye(2)\n",
    "        for i,batch in enumerate(test_loader):\n",
    "            \n",
    "            distributed_models.zero_grad()\n",
    "            total += len(batch[0])\n",
    "            y_i = distributed_models(batch[0])\n",
    "            loss.append(loss_criterion(y_i, batch[1]))\n",
    "\n",
    "\n",
    "            # estimating the fisher information requires one to calculate\n",
    "            # the maximum liklihood using the labels FROM the model\n",
    "            loss_f = loss_criterion(y_i, y_i)\n",
    "            loss_f.backward()\n",
    "            \n",
    "            F_i = fisher(distributed_models)\n",
    "            F = i/(i+1)*F + F_i/(i+1)\n",
    "            y_i = 1.0*(y_i >= 0.5)\n",
    "            correct += torch.eq(y_i, batch[1]).sum()\n",
    "            \n",
    "        accuracy = correct / total\n",
    "        avg_loss = sum(loss) / len(loss)\n",
    "        return accuracy, avg_loss, F\n",
    "\n",
    "acc, avg_loss, F2 = test_logistic(distributed_models, test_loader, True)\n",
    "print(acc, avg_loss)"
   ]
  },
  {
   "cell_type": "code",
   "execution_count": 67,
   "id": "00a9f315",
   "metadata": {},
   "outputs": [
    {
     "name": "stdout",
     "output_type": "stream",
     "text": [
      "tensor([[2.9935, 2.3864],\n",
      "        [2.3864, 2.5269]])\n"
     ]
    }
   ],
   "source": [
    "print(F2)"
   ]
  },
  {
   "cell_type": "markdown",
   "id": "75ac32db",
   "metadata": {},
   "source": [
    "# Easy dataset"
   ]
  },
  {
   "cell_type": "code",
   "execution_count": 68,
   "id": "e02d688e",
   "metadata": {},
   "outputs": [
    {
     "data": {
      "text/plain": [
       "<matplotlib.collections.PathCollection at 0x2413c2ef280>"
      ]
     },
     "execution_count": 68,
     "metadata": {},
     "output_type": "execute_result"
    },
    {
     "data": {
      "image/png": "[encoded data removed]",
      "text/plain": [
       "<Figure size 432x288 with 1 Axes>"
      ]
     },
     "metadata": {
      "needs_background": "light"
     },
     "output_type": "display_data"
    }
   ],
   "source": [
    "plt.scatter(logrdata.data[:,0].numpy(), logrdata.data[:,1].numpy(), c = logrdata.targets.numpy())"
   ]
  },
  {
   "cell_type": "markdown",
   "id": "93cdb943",
   "metadata": {},
   "source": [
    "# Extract all saved weights and process them\n",
    "Weights are saved both all in a list, as an overall mean, and averaged across all models at a given time"
   ]
  },
  {
   "cell_type": "code",
   "execution_count": 69,
   "id": "36a3a328",
   "metadata": {},
   "outputs": [],
   "source": [
    "# Calculate the fisher information and means of weights to see sampling distr. with laplace approx\n",
    "\n",
    "def extract_mean_weights(distributed_models):\n",
    "    model = distributed_models.clients[0].model\n",
    "    states = {name: 0 for name, parameter in model.named_parameters()}\n",
    "    all_saved = {name: [] for name, param in model.named_parameters()}\n",
    "    count = 0\n",
    "    for client in distributed_models.clients:\n",
    "        for saved in client.saved_weights:\n",
    "            for key in saved.keys():\n",
    "                count +=1\n",
    "                states[key]+= saved[key]\n",
    "                all_saved[key].append(saved[key])\n",
    "\n",
    "    states = {key: states[key]/count for key in states.keys()}\n",
    "    return states, all_saved"
   ]
  },
  {
   "cell_type": "code",
   "execution_count": 70,
   "id": "f9978cfc",
   "metadata": {},
   "outputs": [],
   "source": [
    "avg_weights = []\n",
    "for i in range(len(distributed_models.clients[0].saved_weights)):\n",
    "    mean_weight = 0\n",
    "    for client in distributed_models.clients:\n",
    "        mean_weight += client.saved_weights[i]['0.weight']\n",
    "    mean_weight /= len(distributed_models.clients)\n",
    "    avg_weights.append(mean_weight)"
   ]
  },
  {
   "cell_type": "code",
   "execution_count": 71,
   "id": "04b757ae",
   "metadata": {},
   "outputs": [],
   "source": [
    "states, all_saved = extract_mean_weights(distributed_models)\n",
    "\n",
    "weight_samples = torch.vstack(all_saved['0.weight']).numpy()\n",
    "weight_samples_2 = torch.vstack(avg_weights).numpy()\n",
    "\n",
    "center = states['0.weight'].numpy()[0]\n",
    "center = np.mean(weight_samples, axis = 0)"
   ]
  },
  {
   "cell_type": "code",
   "execution_count": 72,
   "id": "66d1785b",
   "metadata": {},
   "outputs": [],
   "source": [
    "from matplotlib.patches import Ellipse\n",
    "import matplotlib.transforms as transforms\n",
    "\n",
    "def conf_ellipse(F, center, ax, n_std = 1.0, facecolor = 'none',other=[], **kwargs):\n",
    "    if len(other) == 0:\n",
    "        cov = np.linalg.inv(F)\n",
    "    else:\n",
    "        cov = np.cov(other[:,0], other[:,1])\n",
    "        \n",
    "    pearson = cov[0,1]/np.sqrt(cov[0,0]*cov[1,1])\n",
    "    ell_y = np.sqrt(1 - pearson)\n",
    "    ell_x = np.sqrt(1 + pearson)\n",
    "\n",
    "    ellipse = Ellipse((0, 0), width = ell_x * 2, height = ell_y * 2, facecolor = facecolor, **kwargs)\n",
    "    \n",
    "    scale_x = np.sqrt(cov[0,0])*n_std\n",
    "    scale_y = np.sqrt(cov[1,1])*n_std\n",
    "    print('info: ', scale_x, scale_y, ell_x, ell_y)\n",
    "\n",
    "    transf = transforms.Affine2D().rotate_deg(45).scale(scale_x, scale_y).translate(center[0], center[1])\n",
    "    \n",
    "    ellipse.set_transform(transf + ax.transData)\n",
    "    return ax.add_patch(ellipse)\n"
   ]
  },
  {
   "cell_type": "markdown",
   "id": "5d04234d",
   "metadata": {},
   "source": [
    "# Confidence ellipse shows that weights are distributed correctly.\n",
    "\n",
    "Using the laplace approximation to the posterior, which uses the inverse fisher information as the estimate of the covariance of the model weights, we can see that the model is extracting weights appro"
   ]
  },
  {
   "cell_type": "code",
   "execution_count": 94,
   "id": "b10fa544",
   "metadata": {},
   "outputs": [
    {
     "name": "stdout",
     "output_type": "stream",
     "text": [
      "info:  0.20636280333564544 0.20093345065152748 1.0630968156624738 0.9326441768050171\n",
      "info:  0.19614918529987335 0.19820373505353928 0.9000458046727796 1.090833419680076\n"
     ]
    },
    {
     "data": {
      "text/plain": [
       "<matplotlib.patches.Ellipse at 0x2413d649f10>"
      ]
     },
     "execution_count": 94,
     "metadata": {},
     "output_type": "execute_result"
    },
    {
     "data": {
      "image/png": "[encoded data removed]",
      "text/plain": [
       "<Figure size 432x288 with 1 Axes>"
      ]
     },
     "metadata": {
      "needs_background": "light"
     },
     "output_type": "display_data"
    }
   ],
   "source": [
    "fig = plt.figure()\n",
    "ax = plt.gca()\n",
    "ax.scatter(weight_samples[:,0], weight_samples[:,1], marker = '.')\n",
    "ax.scatter(weight_samples_2[:,0], weight_samples_2[:,1], color = 'red')\n",
    "center = np.mean(weight_samples, axis = 0)\n",
    "ax.scatter(center[0], center[1], c = 'red', marker = 'x')\n",
    "conf_ellipse(F.numpy(), center, ax, n_std = 3.0, edgecolor = 'green', other = weight_samples)\n",
    "\n",
    "# use the training set F since it is qualitatively similar to the test set\n",
    "# and matches the training data sampled weights more closely.  200 is size of samples over size of batches\n",
    "conf_ellipse(F.numpy()*200, center, ax, n_std = 3.0, edgecolor = 'purple')"
   ]
  },
  {
   "cell_type": "code",
   "execution_count": 74,
   "id": "b707e518",
   "metadata": {},
   "outputs": [
    {
     "data": {
      "text/plain": [
       "(array([ 11.,  31.,  98., 247., 433., 467., 421., 240.,  61.,  11.]),\n",
       " array([-2.4180558, -2.3740838, -2.330112 , -2.28614  , -2.2421682,\n",
       "        -2.1981962, -2.1542242, -2.1102524, -2.0662804, -2.0223086,\n",
       "        -1.9783366], dtype=float32),\n",
       " <BarContainer object of 10 artists>)"
      ]
     },
     "execution_count": 74,
     "metadata": {},
     "output_type": "execute_result"
    },
    {
     "data": {
      "image/png": "[encoded data removed]",
      "text/plain": [
       "<Figure size 432x288 with 1 Axes>"
      ]
     },
     "metadata": {
      "needs_background": "light"
     },
     "output_type": "display_data"
    }
   ],
   "source": [
    "plt.hist(weight_samples[:,0])"
   ]
  },
  {
   "cell_type": "code",
   "execution_count": 75,
   "id": "02af9808",
   "metadata": {},
   "outputs": [
    {
     "data": {
      "text/plain": [
       "(array([  1.,   7.,  42., 116., 365., 543., 586., 262.,  85.,  13.]),\n",
       " array([-2.3642652, -2.3140304, -2.2637956, -2.2135608, -2.163326 ,\n",
       "        -2.1130912, -2.0628564, -2.0126216, -1.962387 , -1.9121522,\n",
       "        -1.8619174], dtype=float32),\n",
       " <BarContainer object of 10 artists>)"
      ]
     },
     "execution_count": 75,
     "metadata": {},
     "output_type": "execute_result"
    },
    {
     "data": {
      "image/png": "[encoded data removed]",
      "text/plain": [
       "<Figure size 432x288 with 1 Axes>"
      ]
     },
     "metadata": {
      "needs_background": "light"
     },
     "output_type": "display_data"
    }
   ],
   "source": [
    "plt.hist(weight_samples[:,1])"
   ]
  },
  {
   "cell_type": "markdown",
   "id": "a631314f",
   "metadata": {},
   "source": [
    "# Making a cenralized model\n",
    "\n",
    "this is for comparison"
   ]
  },
  {
   "cell_type": "code",
   "execution_count": 76,
   "id": "0a30ad20",
   "metadata": {},
   "outputs": [],
   "source": [
    "train_loader = DataLoader(logrdata, shuffle = True, batch_size = 100)"
   ]
  },
  {
   "cell_type": "code",
   "execution_count": 77,
   "id": "66a55094",
   "metadata": {},
   "outputs": [],
   "source": [
    "class SLR(nn.Module):\n",
    "    def __init__(self):\n",
    "        super(SLR, self).__init__()\n",
    "        self.lin = nn.Linear(2,1)\n",
    "        self.transform = nn.Sigmoid()\n",
    "        self.weights = []\n",
    "\n",
    "    def forward(self, x):\n",
    "        out = self.lin(x)\n",
    "        \n",
    "        return self.transform(out)\n",
    "    \n",
    "    def sample(self):\n",
    "        with torch.no_grad():\n",
    "            self.weights.append({name: param.data.clone() for name, param in self.lin.named_parameters()})\n",
    "    \n",
    "    def fisher(self):\n",
    "        g = 0\n",
    "        count = 0\n",
    "        F = torch.zeros(2,2)\n",
    "        with torch.no_grad():\n",
    "            for name, param in self.lin.named_parameters():\n",
    "                if 'weight' in name:\n",
    "                    if param.grad is not None:\n",
    "                        g = param.grad.view(-1,1)\n",
    "                        F = g @ g.T \n",
    "        return F"
   ]
  },
  {
   "cell_type": "code",
   "execution_count": 86,
   "id": "c7dc6c51",
   "metadata": {},
   "outputs": [],
   "source": [
    "lr = .9\n",
    "model = SLR()\n",
    "N = 20000\n",
    "optimizer = SLGD(model.parameters(), lr = lr, N = N, prior = Gaussian(0,.1), preconditioner = Euclidean)\n",
    "loss_criterion = nn.BCELoss()"
   ]
  },
  {
   "cell_type": "code",
   "execution_count": 87,
   "id": "9f40c751",
   "metadata": {
    "scrolled": true
   },
   "outputs": [
    {
     "name": "stdout",
     "output_type": "stream",
     "text": [
      "100 0.27601882815361023\n",
      "200 0.22602543234825134\n",
      "300 0.20192447304725647\n",
      "400 0.1839146465063095\n",
      "500 0.19349943101406097\n",
      "600 0.21052542328834534\n",
      "700 0.18339776992797852\n",
      "800 0.1939827799797058\n",
      "900 0.1821022778749466\n",
      "1000 0.19013240933418274\n",
      "1100 0.18177473545074463\n",
      "1200 0.19624961912631989\n",
      "1300 0.19859124720096588\n",
      "1400 0.18923017382621765\n",
      "1500 0.19592782855033875\n",
      "1600 0.1948612630367279\n",
      "1700 0.1963692456483841\n",
      "1800 0.19641506671905518\n",
      "1900 0.1833461970090866\n",
      "2000 0.19357775151729584\n",
      "2100 0.19329120218753815\n",
      "2200 0.18473629653453827\n",
      "2300 0.20244693756103516\n",
      "2400 0.1877889782190323\n",
      "2500 0.19312551617622375\n",
      "2600 0.18196111917495728\n",
      "2700 0.18634283542633057\n",
      "2800 0.1988385170698166\n",
      "2900 0.18870557844638824\n",
      "3000 0.18010717630386353\n",
      "3100 0.18592201173305511\n",
      "3200 0.1930994987487793\n",
      "3300 0.19117875397205353\n",
      "3400 0.1892959177494049\n",
      "3500 0.18840837478637695\n",
      "3600 0.1877625286579132\n",
      "3700 0.19691406190395355\n",
      "3800 0.18241822719573975\n",
      "3900 0.20223486423492432\n",
      "4000 0.20163054764270782\n",
      "4100 0.18809394538402557\n",
      "4200 0.20136894285678864\n",
      "4300 0.20042341947555542\n",
      "4400 0.19602222740650177\n",
      "4500 0.1848437488079071\n",
      "4600 0.18908025324344635\n",
      "4700 0.1868179738521576\n",
      "4800 0.20534823834896088\n",
      "4900 0.18348059058189392\n",
      "5000 0.20639358460903168\n",
      "5100 0.1889253854751587\n",
      "5200 0.17974033951759338\n",
      "5300 0.2028515487909317\n",
      "5400 0.19301992654800415\n",
      "5500 0.18888384103775024\n",
      "5600 0.18989983201026917\n",
      "5700 0.1915602833032608\n",
      "5800 0.1733185201883316\n",
      "5900 0.19037075340747833\n",
      "6000 0.1945762038230896\n",
      "6100 0.1883278638124466\n",
      "6200 0.18477803468704224\n",
      "6300 0.1751984804868698\n",
      "6400 0.19915372133255005\n",
      "6500 0.18713513016700745\n",
      "6600 0.18840797245502472\n",
      "6700 0.18404263257980347\n",
      "6800 0.1887737661600113\n",
      "6900 0.20022563636302948\n",
      "7000 0.18046671152114868\n",
      "7100 0.19512797892093658\n",
      "7200 0.19759158790111542\n",
      "7300 0.19615484774112701\n",
      "7400 0.19127295911312103\n",
      "7500 0.18666301667690277\n",
      "7600 0.18872730433940887\n",
      "7700 0.18735724687576294\n",
      "7800 0.18950921297073364\n",
      "7900 0.20653583109378815\n",
      "8000 0.1850137561559677\n",
      "8100 0.17554573714733124\n",
      "8200 0.19350719451904297\n",
      "8300 0.1934920847415924\n",
      "8400 0.18232841789722443\n",
      "8500 0.18332332372665405\n",
      "8600 0.19212087988853455\n",
      "8700 0.19360493123531342\n",
      "8800 0.19787651300430298\n",
      "8900 0.2007838785648346\n",
      "9000 0.1975085437297821\n",
      "9100 0.2088102102279663\n",
      "9200 0.1945563703775406\n",
      "9300 0.1872096210718155\n",
      "9400 0.18991833925247192\n",
      "9500 0.19462591409683228\n",
      "9600 0.19394275546073914\n",
      "9700 0.2010403275489807\n",
      "9800 0.2224138230085373\n",
      "9900 0.19618724286556244\n",
      "10000 0.19266605377197266\n"
     ]
    }
   ],
   "source": [
    "train_loss_slr = []\n",
    "mu = 0.5\n",
    "F_SLR = torch.eye(2)\n",
    "i = 0\n",
    "for epoch in range(50):\n",
    "    for batch in train_loader:\n",
    "        i+= 1\n",
    "        optimizer.zero_grad()\n",
    "        y = model(batch[0])\n",
    "\n",
    "        loss = loss_criterion(y, batch[1])\n",
    "        train_loss_slr.append(loss.detach().item())\n",
    "\n",
    "        loss.backward()\n",
    "\n",
    "        optimizer.step()\n",
    "        \n",
    "        if i >= 1000 and i % 20 == 0:\n",
    "            model.sample()\n",
    "            #F_SLR = (1 - mu)*F_SLR + mu*model.fisher()\n",
    "            F_SLR = i/(i+1)*F_SLR + 1/(i+1)*model.fisher()\n",
    "            \n",
    "        if i % 100 == 0:\n",
    "            print(i, loss.item())"
   ]
  },
  {
   "cell_type": "code",
   "execution_count": 88,
   "id": "0e37a72d",
   "metadata": {},
   "outputs": [
    {
     "data": {
      "text/plain": [
       "tensor([[8.9079e-01, 9.9502e-06],\n",
       "        [9.9502e-06, 8.9079e-01]])"
      ]
     },
     "execution_count": 88,
     "metadata": {},
     "output_type": "execute_result"
    }
   ],
   "source": [
    "F_SLR"
   ]
  },
  {
   "cell_type": "code",
   "execution_count": 89,
   "id": "c6823f01",
   "metadata": {},
   "outputs": [
    {
     "data": {
      "text/plain": [
       "[<matplotlib.lines.Line2D at 0x2413c4800d0>]"
      ]
     },
     "execution_count": 89,
     "metadata": {},
     "output_type": "execute_result"
    },
    {
     "data": {
      "image/png": "[encoded data removed]",
      "text/plain": [
       "<Figure size 432x288 with 1 Axes>"
      ]
     },
     "metadata": {
      "needs_background": "light"
     },
     "output_type": "display_data"
    }
   ],
   "source": [
    "plt.plot(train_loss_slr)"
   ]
  },
  {
   "cell_type": "code",
   "execution_count": 90,
   "id": "bb13f2da",
   "metadata": {},
   "outputs": [],
   "source": [
    "saved_weights_slr = []\n",
    "for weights in model.weights:\n",
    "    saved_weights_slr.append(weights['weight'].data)"
   ]
  },
  {
   "cell_type": "code",
   "execution_count": 91,
   "id": "742adfea",
   "metadata": {},
   "outputs": [],
   "source": [
    "saved_weights_slr = torch.vstack(saved_weights_slr).numpy()"
   ]
  },
  {
   "cell_type": "code",
   "execution_count": 92,
   "id": "989860b3",
   "metadata": {},
   "outputs": [
    {
     "name": "stdout",
     "output_type": "stream",
     "text": [
      "tensor(0.9998) tensor(0.2011)\n"
     ]
    }
   ],
   "source": [
    "acc, loss = test_logistic(model, test_loader)\n",
    "\n",
    "print(acc, loss)"
   ]
  },
  {
   "cell_type": "code",
   "execution_count": 93,
   "id": "b0305f07",
   "metadata": {},
   "outputs": [
    {
     "name": "stdout",
     "output_type": "stream",
     "text": [
      "info:  0.22399948321325935 0.20676638464607933 0.731563246000795 1.2102955081717772\n",
      "info:  0.2247599959373474 0.22475995123386383 0.9999944149379658 1.0000055850308416\n"
     ]
    },
    {
     "data": {
      "text/plain": [
       "<matplotlib.patches.Ellipse at 0x2413c5f2d30>"
      ]
     },
     "execution_count": 93,
     "metadata": {},
     "output_type": "execute_result"
    },
    {
     "data": {
      "image/png": "[encoded data removed]",
      "text/plain": [
       "<Figure size 432x288 with 1 Axes>"
      ]
     },
     "metadata": {
      "needs_background": "light"
     },
     "output_type": "display_data"
    }
   ],
   "source": [
    "\n",
    "fig = plt.figure()\n",
    "ax = plt.gca()\n",
    "ax.scatter(saved_weights_slr[:,0], saved_weights_slr[:,1], marker = '.')\n",
    "center = np.median(saved_weights_slr, axis = 0)\n",
    "ax.scatter(center[0], center[1], c = 'red', marker = 'x')\n",
    "conf_ellipse(F.numpy(), center, ax, n_std = 3.0, edgecolor = 'green', other = saved_weights_slr)\n",
    "\n",
    "# 200 is size of samples over size of batches\n",
    "conf_ellipse(F_SLR*200, center, ax, n_std = 3.0, edgecolor = 'purple')"
   ]
  },
  {
   "cell_type": "code",
   "execution_count": null,
   "id": "2be9fc6b",
   "metadata": {},
   "outputs": [],
   "source": []
  },
  {
   "cell_type": "code",
   "execution_count": null,
   "id": "885a71f5",
   "metadata": {},
   "outputs": [],
   "source": []
  },
  {
   "cell_type": "code",
   "execution_count": null,
   "id": "24a2378f",
   "metadata": {},
   "outputs": [],
   "source": []
  }
 ],
 "metadata": {
  "kernelspec": {
   "display_name": "Python 3 (ipykernel)",
   "language": "python",
   "name": "python3"
  },
  "language_info": {
   "codemirror_mode": {
    "name": "ipython",
    "version": 3
   },
   "file_extension": ".py",
   "mimetype": "text/x-python",
   "name": "python",
   "nbconvert_exporter": "python",
   "pygments_lexer": "ipython3",
   "version": "3.9.7"
  }
 },
 "nbformat": 4,
 "nbformat_minor": 5
}
